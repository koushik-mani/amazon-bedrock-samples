{
 "cells": [
  {
   "cell_type": "markdown",
   "metadata": {},
   "source": [
    "# Fine-tune and Evaluate Amazon Nova Micro model provided by Amazon Bedrock: End-to-End\n",
    "\n",
    "In this notebook we demonstrate using Boto3 sdk for the fine-tuning and provisioning of [Nova Micro](https://aws.amazon.com/bedrock/nova/) model in Bedrock. You can also do this through the Bedrock Console.\n",
    "\n",
    "<div class=\"alert alert-block alert-warning\">\n",
    "\n",
    "<b>Warning:</b> This module cannot be executed in Workshop Studio Accounts, and you will have to run this notebook in your own account.\n",
    "\n",
    "</div>\n",
    "\n",
    "### A Summarization Use Case\n",
    "\n",
    "In this notebook, we build an end-to-end workflow for fine-tuning and evaluating the Foundation Models (FMs) in Amazon Bedrock. We choose [Amazon Nova Micro](https://aws.amazon.com/bedrock/nova/) as our FM to perform the customization through fine-tuning, we then create on demand inference deployment of the fine-tuned model, and test the on demand invocation using various API methods.\n",
    "\n",
    "> *This notebook should work well with the **`Data Science 3.0`**, **`Python 3`**, and **`ml.c5.2xlarge`** kernel in SageMaker Studio*\n",
    "\n",
    "## Prerequisites\n",
    "\n",
    " - Make sure you have executed `01_setup_nova_micro.ipynb` notebook.\n",
    " - Make sure you are using the same kernel and instance as `01_setup_nova_micro.ipynb` notebook.\n",
    "\n",
    "In this notebook we demonstrate using Boto3 sdk for the fine-tuning and provisioning of [Nova Micro](https://aws.amazon.com/bedrock/nova/) model in Bedrock. You can also do this through the Bedrock Console.\n",
    "\n"
   ]
  },
  {
   "cell_type": "markdown",
   "metadata": {},
   "source": [
    "## Setup\n",
    "\n",
    "Install and import all the needed libraries and dependencies to complete this notebook.\n",
    "\n",
    "Please ignore error messages related to pip's dependency resolver."
   ]
  },
  {
   "cell_type": "code",
   "execution_count": null,
   "metadata": {},
   "outputs": [],
   "source": [
    "# # install the fmeval package for foundation model evaluation\n",
    "\n",
    "!rm -Rf ~/.cache/pip/*\n",
    "!pip install tokenizers==0.12.1\n",
    "!pip install -qU fmeval==0.3.0\n",
    "!pip install awscurl"
   ]
  },
  {
   "cell_type": "markdown",
   "metadata": {},
   "source": [
    "#### Setup Tips:\n",
    "\n",
    "⚠️ ⚠️ ⚠️ If you have trouble installing fmeval, please make sure you have the dependencies installed correctly. See full list of dependencies [here](https://github.com/aws/fmeval/blob/main/poetry.lock). ⚠️ ⚠️ ⚠️ "
   ]
  },
  {
   "cell_type": "code",
   "execution_count": null,
   "metadata": {},
   "outputs": [],
   "source": [
    "# restart kernel for packages to take effect\n",
    "from IPython.core.display import HTML\n",
    "HTML(\"<script>Jupyter.notebook.kernel.restart()</script>\")"
   ]
  },
  {
   "cell_type": "markdown",
   "metadata": {},
   "source": [
    "## Fetching varialbes from `00_setup.ipynb` notebook. "
   ]
  },
  {
   "cell_type": "code",
   "execution_count": null,
   "metadata": {},
   "outputs": [],
   "source": [
    "%store -r role_arn\n",
    "%store -r s3_train_uri\n",
    "%store -r s3_validation_uri\n",
    "%store -r s3_test_uri\n",
    "%store -r bucket_name"
   ]
  },
  {
   "cell_type": "code",
   "execution_count": null,
   "metadata": {},
   "outputs": [],
   "source": [
    "import pprint\n",
    "pprint.pp(role_arn)\n",
    "pprint.pp(s3_train_uri)\n",
    "pprint.pp(s3_validation_uri)\n",
    "pprint.pp(s3_test_uri)\n",
    "pprint.pp(bucket_name)"
   ]
  },
  {
   "cell_type": "code",
   "execution_count": null,
   "metadata": {},
   "outputs": [],
   "source": [
    "import warnings\n",
    "warnings.filterwarnings('ignore')\n",
    "import json\n",
    "import os\n",
    "import sys\n",
    "import boto3\n",
    "import pandas as pd\n",
    "from matplotlib import pyplot as plt"
   ]
  },
  {
   "cell_type": "code",
   "execution_count": null,
   "metadata": {},
   "outputs": [],
   "source": [
    "session = boto3.session.Session()\n",
    "region = \"us-east-1\" # Hardcoded to us-west-2 region\n",
    "sts_client = boto3.client('sts')\n",
    "s3_client = boto3.client('s3')\n",
    "aws_account_id = sts_client.get_caller_identity()[\"Account\"]\n",
    "bedrock = boto3.client(service_name=\"bedrock\", region_name=region)\n",
    "bedrock_runtime = boto3.client(service_name=\"bedrock-runtime\", region_name=region)"
   ]
  },
  {
   "cell_type": "code",
   "execution_count": null,
   "metadata": {},
   "outputs": [],
   "source": [
    "test_file_name = \"test-cnn-10.jsonl\"\n",
    "data_folder = \"fine-tuning-datasets-nova\""
   ]
  },
  {
   "cell_type": "markdown",
   "metadata": {},
   "source": [
    "## Create the Fine-Tuning Job\n",
    "\n",
    "<div class=\"alert alert-block alert-info\">\n",
    "\n",
    "<b>Note:</b> Fine-tuning job will take around 60mins to complete with 5K records.</div>\n",
    "\n",
    "Amazon Nova Micro customization hyperparameters: \n",
    "\n",
    "- `epochs`: The number of iterations through the entire training dataset and can take up any integer values in the range of 1-10, with a default value of 2.\n",
    "\n",
    "- `batchSize`: The number of samples processed before updating model parametersand can take up any integer values in the range of 1-64, with a default value of 1.\n",
    "\n",
    "- `learningRate`:\tThe rate at which model parameters are updated after each batch\twhich can take up a float value betweek 0.0-1.0 with a default value set to\t1.00E-5.\n",
    "\n",
    "\n",
    "For guidelines on setting hyper-parameters refer to the guidelines provided [here](https://docs.aws.amazon.com/bedrock/latest/userguide/model-customization-guidelines.html)"
   ]
  },
  {
   "cell_type": "code",
   "execution_count": null,
   "metadata": {},
   "outputs": [],
   "source": [
    "from datetime import datetime\n",
    "ts = datetime.now().strftime(\"%Y-%m-%d-%H-%M-%S\")\n",
    "\n",
    "# Choose the foundation model you want to customize and provide ModelId(find more about model reference at https://docs.aws.amazon.com/bedrock/latest/userguide/bedrock-reference.html)\n",
    "base_model_id = \"amazon.nova-micro-v1:0:128k\"\n",
    "\n",
    "# Select the customization type from \"FINE_TUNING\" or \"CONTINUED_PRE_TRAINING\". \n",
    "customization_type = \"FINE_TUNING\"\n",
    "\n",
    "# Specify the roleArn for your customization job\n",
    "customization_role = role_arn\n",
    "\n",
    "# Create a customization job name\n",
    "customization_job_name = f\"amazon-nova-micro-custom-job-{ts}\"\n",
    "\n",
    "# Create a customized model name for your fine-tuned Nova Micro model\n",
    "custom_model_name = f\"amazon-nova-micro-custom-model-{ts}\"\n",
    "\n",
    "# Define the hyperparameters for fine-tuning Nova Micro model\n",
    "hyper_parameters = {\n",
    "        \"epochCount\": \"2\",\n",
    "        \"batchSize\": \"1\",\n",
    "        \"learningRate\": \"0.00005\",\n",
    "    }\n",
    "\n",
    "# Specify your data path for training, validation(optional) and output\n",
    "training_data_config = {\"s3Uri\": s3_train_uri}\n",
    "\n",
    "# # uncomment the below section if you have validation dataset and provide the s3 uri for it. \n",
    "\n",
    "validation_data_config = {\n",
    "        \"validators\": [{\n",
    "            \"s3Uri\": s3_validation_uri\n",
    "        }]\n",
    "    }\n",
    "\n",
    "output_data_config = {\"s3Uri\": f's3://{bucket_name}/outputs/output-{custom_model_name}'}\n",
    "\n",
    "# # Create the customization job\n",
    "bedrock.create_model_customization_job(\n",
    "    customizationType=customization_type,\n",
    "    jobName=customization_job_name,\n",
    "    customModelName=custom_model_name,\n",
    "    roleArn=customization_role,\n",
    "    baseModelIdentifier=base_model_id,\n",
    "    hyperParameters=hyper_parameters,\n",
    "    trainingDataConfig=training_data_config,\n",
    "    validationDataConfig=validation_data_config,\n",
    "    outputDataConfig=output_data_config\n",
    "\n",
    ")"
   ]
  },
  {
   "cell_type": "markdown",
   "metadata": {},
   "source": [
    "## Check Customization Job Status"
   ]
  },
  {
   "cell_type": "code",
   "execution_count": null,
   "metadata": {},
   "outputs": [],
   "source": [
    "import time\n",
    "fine_tune_job = bedrock.get_model_customization_job(jobIdentifier=customization_job_name)[\"status\"]\n",
    "print(fine_tune_job)\n",
    "\n",
    "while fine_tune_job == \"InProgress\":\n",
    "    time.sleep(60)\n",
    "    fine_tune_job = bedrock.get_model_customization_job(jobIdentifier=customization_job_name)[\"status\"]\n",
    "    print (fine_tune_job)"
   ]
  },
  {
   "cell_type": "markdown",
   "metadata": {},
   "source": [
    "## Retrieve Custom Model\n",
    "\n",
    "Once the customization job is finished, you can check your existing custom model(s) and retrieve the modelArn of your fine-tuned Nova Micro model."
   ]
  },
  {
   "cell_type": "code",
   "execution_count": null,
   "metadata": {},
   "outputs": [],
   "source": [
    "# You can list your custom models using the command below\n",
    "bedrock.list_custom_models()"
   ]
  },
  {
   "cell_type": "markdown",
   "metadata": {},
   "source": [
    "<div class=\"alert alert-block alert-info\">\n",
    "\n",
    "<b>Note:</b> Please make sure your customization job status is \"completed\" before proceeding to retrieve the modelArn, otherwise you will run into errors. </div>"
   ]
  },
  {
   "cell_type": "code",
   "execution_count": null,
   "metadata": {},
   "outputs": [],
   "source": [
    "# retrieve the modelArn of the fine-tuned model\n",
    "fine_tune_job = bedrock.get_custom_model(modelIdentifier=custom_model_name)\n",
    "custom_model_id = fine_tune_job['modelArn']"
   ]
  },
  {
   "cell_type": "code",
   "execution_count": null,
   "metadata": {},
   "outputs": [],
   "source": [
    "output_job_name = \"model-customization-job-\"+fine_tune_job['jobArn'].split('/')[-1]\n",
    "output_job_name"
   ]
  },
  {
   "cell_type": "markdown",
   "metadata": {},
   "source": [
    "## Visualize Training and Validation Loss\n",
    "\n",
    "Now that we have completed fine-tuning job, lets visualize our results to see if our job is not underfitting or overfitting. \n",
    "Download model customization job metrics from S3 and plot the learning curves."
   ]
  },
  {
   "cell_type": "code",
   "execution_count": null,
   "metadata": {},
   "outputs": [],
   "source": [
    "output_metrics_path = f\"fine-tuning-datasets-nova/{output_job_name}\""
   ]
  },
  {
   "cell_type": "code",
   "execution_count": null,
   "metadata": {},
   "outputs": [],
   "source": [
    "!mkdir $output_metrics_path"
   ]
  },
  {
   "cell_type": "code",
   "execution_count": null,
   "metadata": {},
   "outputs": [],
   "source": [
    "train_metrics_s3_prefix=f'outputs/output-{custom_model_name}/{output_job_name}/training_artifacts/step_wise_training_metrics.csv'\n",
    "validation_metrics_s3_prefix=f'outputs/output-{custom_model_name}/{output_job_name}/validation_artifacts/post_fine_tuning_validation/validation/validation_metrics.csv'\n",
    "train_metrics_name='train_metrics.csv'\n",
    "validation_metrics_name='validation_metrics.csv'\n",
    "train_file_name_local=output_metrics_path+'/'+train_metrics_name\n",
    "validation_file_name_local=output_metrics_path+'/'+validation_metrics_name"
   ]
  },
  {
   "cell_type": "code",
   "execution_count": null,
   "metadata": {},
   "outputs": [],
   "source": [
    "s3_client.download_file(bucket_name, train_metrics_s3_prefix, train_file_name_local)\n",
    "s3_client.download_file(bucket_name, validation_metrics_s3_prefix, validation_file_name_local)"
   ]
  },
  {
   "cell_type": "code",
   "execution_count": null,
   "metadata": {},
   "outputs": [],
   "source": [
    "train_data = pd.read_csv(train_file_name_local)\n",
    "'''The training loss is at an iteration level. To calculate loss at the epoch level,\n",
    "\n",
    "    average the iteration-level loss for each epoch'''\n",
    "train_metrics_epoch=train_data.groupby('epoch_number').mean()\n",
    "validation_metrics_epoch=pd.read_csv(validation_file_name_local)\n",
    "plt.plot(validation_metrics_epoch.epoch_number, validation_metrics_epoch.validation_loss,label='validation')\n",
    "plt.plot(train_metrics_epoch.index, train_metrics_epoch.training_loss,label='training')\n",
    "plt.title('Training vs Validation Loss')\n",
    "plt.ylabel('Loss')\n",
    "plt.xlabel('Epoch')\n",
    "plt.legend()\n",
    "plt.show()"
   ]
  },
  {
   "cell_type": "markdown",
   "metadata": {},
   "source": [
    "## Deploy the Fine-tuned Model\n",
    "\n",
    "After fine-tuning is complete, we need to deploy the model to make it available for inference. The following command creates a deployment for our fine-tuned Nova Micro model."
   ]
  },
  {
   "cell_type": "code",
   "execution_count": null,
   "metadata": {},
   "outputs": [],
   "source": [
    "payload = f'{{\"modelDeploymentName\":\"novafinetunedtest1\",\"modelArn\":\"{custom_model_id}\",\"description\":\"foo\",\"clientRequestToken\":\"foo\",\"tags\":[{{\"key\":\"test\",\"value\":\"test\"}}]}}'\n",
    "\n",
    "response = !awscurl --service bedrock -X POST https://bedrock.us-east-1.amazonaws.com/model-customization/custom-model-deployments --data '{payload}'"
   ]
  },
  {
   "cell_type": "code",
   "execution_count": null,
   "metadata": {},
   "outputs": [],
   "source": [
    "deployed_model_id = json.loads(response[0])['customModelDeploymentArn']"
   ]
  },
  {
   "cell_type": "markdown",
   "metadata": {},
   "source": [
    "## Testing the Deployed Model\n",
    "\n",
    "Now that we have deployed our fine-tuned Nova Micro model, we can test it using various API methods provided by Amazon Bedrock. Each method offers different capabilities for interacting with the model.\n",
    "\n",
    "### Converse API\n",
    "The Converse API allows for synchronous conversation with the model, receiving the complete response at once."
   ]
  },
  {
   "cell_type": "code",
   "execution_count": null,
   "metadata": {},
   "outputs": [],
   "source": [
    "import json\n",
    "\n",
    "brt = boto3.client(service_name='bedrock-runtime', region_name = 'us-east-1')\n",
    "\n",
    "try:\n",
    "    response = brt.converse(\n",
    "        modelId=deployed_model_id,\n",
    "        system = [\n",
    "                    {\n",
    "                      \"text\": \"You are a helpful assistant that summarizes news articles accurately and concisely.\"\n",
    "                    }\n",
    "              ],\n",
    "        messages=[\n",
    "                    {\n",
    "              \"role\": \"user\",\n",
    "              \"content\": [\n",
    "                {\n",
    "                  \"text\": \"Summarize the following news article:\\n\\n(CNN)  -- The National Football League has indefinitely suspended Atlanta Falcons quarterback Michael Vick without pay, officials with the league said Friday. NFL star Michael Vick is set to appear in court Monday. A judge will have the final say on a plea deal. Earlier, Vick admitted to participating in a dogfighting ring as part of a plea agreement with federal prosecutors in Virginia. \\\"Your admitted conduct was not only illegal, but also cruel and reprehensible. Your team, the NFL, and NFL fans have all been hurt by your actions,\\\" NFL Commissioner Roger Goodell said in a letter to Vick. Goodell said he would review the status of the suspension after the legal proceedings are over. In papers filed Friday with a federal court in Virginia, Vick also admitted that he and two co-conspirators killed dogs that did not fight well. Falcons owner Arthur Blank said Vick's admissions describe actions that are \\\"incomprehensible and unacceptable.\\\" The suspension makes \\\"a strong statement that conduct which tarnishes the good reputation of the NFL will not be tolerated,\\\" he said in a statement.  Watch what led to Vick's suspension \\u00bb . Goodell said the Falcons could \\\"assert any claims or remedies\\\" to recover $22 million of Vick's signing bonus from the 10-year, $130 million contract he signed in 2004, according to The Associated Press. Vick said he would plead guilty to one count of \\\"Conspiracy to Travel in Interstate Commerce in Aid of Unlawful Activities and to Sponsor a Dog in an Animal Fighting Venture\\\" in a plea agreement filed at U.S. District Court in Richmond, Virginia. The charge is punishable by up to five years in prison, a $250,000 fine, \\\"full restitution, a special assessment and 3 years of supervised release,\\\" the plea deal said. Federal prosecutors agreed to ask for the low end of the sentencing guidelines. \\\"The defendant will plead guilty because the defendant is in fact guilty of the charged offense,\\\" the plea agreement said. In an additional summary of facts, signed by Vick and filed with the agreement, Vick admitted buying pit bulls and the property used for training and fighting the dogs, but the statement said he did not bet on the fights or receive any of the money won. \\\"Most of the 'Bad Newz Kennels' operations and gambling monies were provided by Vick,\\\" the official summary of facts said. Gambling wins were generally split among co-conspirators Tony Taylor, Quanis Phillips and sometimes Purnell Peace, it continued. \\\"Vick did not gamble by placing side bets on any of the fights. Vick did not receive any of the proceeds from the purses that were won by 'Bad Newz Kennels.' \\\" Vick also agreed that \\\"collective efforts\\\" by him and two others caused the deaths of at least six dogs. Around April, Vick, Peace and Phillips tested some dogs in fighting sessions at Vick's property in Virginia, the statement said. \\\"Peace, Phillips and Vick agreed to the killing of approximately 6-8 dogs that did not perform well in 'testing' sessions at 1915 Moonlight Road and all of those dogs were killed by various methods, including hanging and drowning. \\\"Vick agrees and stipulates that these dogs all died as a result of the collective efforts of Peace, Phillips and Vick,\\\" the summary said. Peace, 35, of Virginia Beach, Virginia; Phillips, 28, of Atlanta, Georgia; and Taylor, 34, of Hampton, Virginia, already have accepted agreements to plead guilty in exchange for reduced sentences. Vick, 27, is scheduled to appear Monday in court, where he is expected to plead guilty before a judge.  See a timeline of the case against Vick \\u00bb . The judge in the case will have the final say over the plea agreement. The federal case against Vick focused on the interstate conspiracy, but Vick's admission that he was involved in the killing of dogs could lead to local charges, according to CNN legal analyst Jeffrey Toobin. \\\"It sometimes happens -- not often -- that the state will follow a federal prosecution by charging its own crimes for exactly the same behavior,\\\" Toobin said Friday. \\\"The risk for Vick is, if he makes admissions in his federal guilty plea, the state of Virginia could say, 'Hey, look, you admitted violating Virginia state law as well. We're going to introduce that against you and charge you in our court.' \\\" In the plea deal, Vick agreed to cooperate with investigators and provide all information he may have on any criminal activity and to testify if necessary. Vick also agreed to turn over any documents he has and to submit to polygraph tests. Vick agreed to \\\"make restitution for the full amount of the costs associated\\\" with the dogs that are being held by the government. \\\"Such costs may include, but are not limited to, all costs associated with the care of the dogs involved in that case, including if necessary, the long-term care and/or the humane euthanasia of some or all of those animals.\\\" Prosecutors, with the support of animal rights activists, have asked for permission to euthanize the dogs. But the dogs could serve as important evidence in the cases against Vick and his admitted co-conspirators. Judge Henry E. Hudson issued an order Thursday telling the U.S. Marshals Service to \\\"arrest and seize the defendant property, and use discretion and whatever means appropriate to protect and maintain said defendant property.\\\" Both the judge's order and Vick's filing refer to \\\"approximately\\\" 53 pit bull dogs. After Vick's indictment last month, Goodell ordered the quarterback not to report to the Falcons training camp, and the league is reviewing the case. Blank told the NFL Network on Monday he could not speculate on Vick's future as a Falcon, at least not until he had seen \\\"a statement of facts\\\" in the case.  E-mail to a friend . CNN's Mike Phelan contributed to this report.\"\n",
    "                }\n",
    "              ]\n",
    "            }\n",
    "        ]\n",
    "    )\n",
    "\n",
    "    print(\"Request ID:\", response['ResponseMetadata']['RequestId'])\n",
    "    result = response.get('output')\n",
    "    print(result)\n",
    "    print(\"\\n\\n\\n\")\n",
    "    print(result['message']['content'][0]['text'])\n",
    "\n",
    "except Exception as e:\n",
    "    # Print the full error response for debugging\n",
    "    print(\"Error:\", e)\n",
    "    # Extract and print the Request ID from the error response\n",
    "    if 'ResponseMetadata' in e.response:\n",
    "        print(\"Request ID:\", e.response['ResponseMetadata']['RequestId'])      "
   ]
  },
  {
   "cell_type": "markdown",
   "metadata": {},
   "source": [
    "### Converse Stream API\n",
    "The Converse Stream API provides the response as a stream of tokens, allowing for faster time-to-first-token and progressive rendering of the response."
   ]
  },
  {
   "cell_type": "code",
   "execution_count": null,
   "metadata": {},
   "outputs": [],
   "source": [
    "import boto3\n",
    "import json\n",
    "\n",
    "brt = boto3.client(service_name='bedrock-runtime', region_name = 'us-east-1')\n",
    "\n",
    "try:\n",
    "    response = brt.converse_stream(\n",
    "        \n",
    "        modelId=deployed_model_id,\n",
    "        system = [\n",
    "                    {\n",
    "                      \"text\": \"You are a helpful assistant that summarizes news articles accurately and concisely.\"\n",
    "                    }\n",
    "              ],\n",
    "        messages=[\n",
    "                    {\n",
    "              \"role\": \"user\",\n",
    "              \"content\": [\n",
    "                {\n",
    "                  \"text\": \"Summarize the following news article:\\n\\n(CNN)  -- The National Football League has indefinitely suspended Atlanta Falcons quarterback Michael Vick without pay, officials with the league said Friday. NFL star Michael Vick is set to appear in court Monday. A judge will have the final say on a plea deal. Earlier, Vick admitted to participating in a dogfighting ring as part of a plea agreement with federal prosecutors in Virginia. \\\"Your admitted conduct was not only illegal, but also cruel and reprehensible. Your team, the NFL, and NFL fans have all been hurt by your actions,\\\" NFL Commissioner Roger Goodell said in a letter to Vick. Goodell said he would review the status of the suspension after the legal proceedings are over. In papers filed Friday with a federal court in Virginia, Vick also admitted that he and two co-conspirators killed dogs that did not fight well. Falcons owner Arthur Blank said Vick's admissions describe actions that are \\\"incomprehensible and unacceptable.\\\" The suspension makes \\\"a strong statement that conduct which tarnishes the good reputation of the NFL will not be tolerated,\\\" he said in a statement.  Watch what led to Vick's suspension \\u00bb . Goodell said the Falcons could \\\"assert any claims or remedies\\\" to recover $22 million of Vick's signing bonus from the 10-year, $130 million contract he signed in 2004, according to The Associated Press. Vick said he would plead guilty to one count of \\\"Conspiracy to Travel in Interstate Commerce in Aid of Unlawful Activities and to Sponsor a Dog in an Animal Fighting Venture\\\" in a plea agreement filed at U.S. District Court in Richmond, Virginia. The charge is punishable by up to five years in prison, a $250,000 fine, \\\"full restitution, a special assessment and 3 years of supervised release,\\\" the plea deal said. Federal prosecutors agreed to ask for the low end of the sentencing guidelines. \\\"The defendant will plead guilty because the defendant is in fact guilty of the charged offense,\\\" the plea agreement said. In an additional summary of facts, signed by Vick and filed with the agreement, Vick admitted buying pit bulls and the property used for training and fighting the dogs, but the statement said he did not bet on the fights or receive any of the money won. \\\"Most of the 'Bad Newz Kennels' operations and gambling monies were provided by Vick,\\\" the official summary of facts said. Gambling wins were generally split among co-conspirators Tony Taylor, Quanis Phillips and sometimes Purnell Peace, it continued. \\\"Vick did not gamble by placing side bets on any of the fights. Vick did not receive any of the proceeds from the purses that were won by 'Bad Newz Kennels.' \\\" Vick also agreed that \\\"collective efforts\\\" by him and two others caused the deaths of at least six dogs. Around April, Vick, Peace and Phillips tested some dogs in fighting sessions at Vick's property in Virginia, the statement said. \\\"Peace, Phillips and Vick agreed to the killing of approximately 6-8 dogs that did not perform well in 'testing' sessions at 1915 Moonlight Road and all of those dogs were killed by various methods, including hanging and drowning. \\\"Vick agrees and stipulates that these dogs all died as a result of the collective efforts of Peace, Phillips and Vick,\\\" the summary said. Peace, 35, of Virginia Beach, Virginia; Phillips, 28, of Atlanta, Georgia; and Taylor, 34, of Hampton, Virginia, already have accepted agreements to plead guilty in exchange for reduced sentences. Vick, 27, is scheduled to appear Monday in court, where he is expected to plead guilty before a judge.  See a timeline of the case against Vick \\u00bb . The judge in the case will have the final say over the plea agreement. The federal case against Vick focused on the interstate conspiracy, but Vick's admission that he was involved in the killing of dogs could lead to local charges, according to CNN legal analyst Jeffrey Toobin. \\\"It sometimes happens -- not often -- that the state will follow a federal prosecution by charging its own crimes for exactly the same behavior,\\\" Toobin said Friday. \\\"The risk for Vick is, if he makes admissions in his federal guilty plea, the state of Virginia could say, 'Hey, look, you admitted violating Virginia state law as well. We're going to introduce that against you and charge you in our court.' \\\" In the plea deal, Vick agreed to cooperate with investigators and provide all information he may have on any criminal activity and to testify if necessary. Vick also agreed to turn over any documents he has and to submit to polygraph tests. Vick agreed to \\\"make restitution for the full amount of the costs associated\\\" with the dogs that are being held by the government. \\\"Such costs may include, but are not limited to, all costs associated with the care of the dogs involved in that case, including if necessary, the long-term care and/or the humane euthanasia of some or all of those animals.\\\" Prosecutors, with the support of animal rights activists, have asked for permission to euthanize the dogs. But the dogs could serve as important evidence in the cases against Vick and his admitted co-conspirators. Judge Henry E. Hudson issued an order Thursday telling the U.S. Marshals Service to \\\"arrest and seize the defendant property, and use discretion and whatever means appropriate to protect and maintain said defendant property.\\\" Both the judge's order and Vick's filing refer to \\\"approximately\\\" 53 pit bull dogs. After Vick's indictment last month, Goodell ordered the quarterback not to report to the Falcons training camp, and the league is reviewing the case. Blank told the NFL Network on Monday he could not speculate on Vick's future as a Falcon, at least not until he had seen \\\"a statement of facts\\\" in the case.  E-mail to a friend . CNN's Mike Phelan contributed to this report.\"\n",
    "                }\n",
    "              ]\n",
    "            }\n",
    "        ]\n",
    "    )\n",
    "\n",
    "    for chunk in response[\"stream\"]:\n",
    "        if \"contentBlockDelta\" in chunk:\n",
    "            text = chunk[\"contentBlockDelta\"][\"delta\"][\"text\"]\n",
    "            print(text, end=\"\")\n",
    "    \n",
    "except Exception as e:\n",
    "    # Print the full error response for debugging\n",
    "    print(\"Error:\", e)\n",
    "    # Extract and print the Request ID from the error response\n",
    "    if 'ResponseMetadata' in e.response:\n",
    "        print(\"Request ID:\", e.response['ResponseMetadata']['RequestId'])"
   ]
  },
  {
   "cell_type": "markdown",
   "metadata": {},
   "source": [
    "### Invoke API\n",
    "The Invoke API allows for direct model invocation with custom system prompts and inference parameters."
   ]
  },
  {
   "cell_type": "code",
   "execution_count": null,
   "metadata": {},
   "outputs": [],
   "source": [
    "import boto3\n",
    "import json\n",
    "\n",
    "brt = boto3.client(service_name='bedrock-runtime', region_name = 'us-east-1')\n",
    "\n",
    "\n",
    "system_list = [\n",
    "                    {\n",
    "                      \"text\": \"You are a helpful assistant that summarizes news articles accurately and concisely.\"\n",
    "                    }\n",
    "              ]\n",
    "message_list=[\n",
    "            {\n",
    "      \"role\": \"user\",\n",
    "      \"content\": [\n",
    "        {\n",
    "          \"text\": \"Summarize the following news article:\\n\\n(CNN)  -- The National Football League has indefinitely suspended Atlanta Falcons quarterback Michael Vick without pay, officials with the league said Friday. NFL star Michael Vick is set to appear in court Monday. A judge will have the final say on a plea deal. Earlier, Vick admitted to participating in a dogfighting ring as part of a plea agreement with federal prosecutors in Virginia. \\\"Your admitted conduct was not only illegal, but also cruel and reprehensible. Your team, the NFL, and NFL fans have all been hurt by your actions,\\\" NFL Commissioner Roger Goodell said in a letter to Vick. Goodell said he would review the status of the suspension after the legal proceedings are over. In papers filed Friday with a federal court in Virginia, Vick also admitted that he and two co-conspirators killed dogs that did not fight well. Falcons owner Arthur Blank said Vick's admissions describe actions that are \\\"incomprehensible and unacceptable.\\\" The suspension makes \\\"a strong statement that conduct which tarnishes the good reputation of the NFL will not be tolerated,\\\" he said in a statement.  Watch what led to Vick's suspension \\u00bb . Goodell said the Falcons could \\\"assert any claims or remedies\\\" to recover $22 million of Vick's signing bonus from the 10-year, $130 million contract he signed in 2004, according to The Associated Press. Vick said he would plead guilty to one count of \\\"Conspiracy to Travel in Interstate Commerce in Aid of Unlawful Activities and to Sponsor a Dog in an Animal Fighting Venture\\\" in a plea agreement filed at U.S. District Court in Richmond, Virginia. The charge is punishable by up to five years in prison, a $250,000 fine, \\\"full restitution, a special assessment and 3 years of supervised release,\\\" the plea deal said. Federal prosecutors agreed to ask for the low end of the sentencing guidelines. \\\"The defendant will plead guilty because the defendant is in fact guilty of the charged offense,\\\" the plea agreement said. In an additional summary of facts, signed by Vick and filed with the agreement, Vick admitted buying pit bulls and the property used for training and fighting the dogs, but the statement said he did not bet on the fights or receive any of the money won. \\\"Most of the 'Bad Newz Kennels' operations and gambling monies were provided by Vick,\\\" the official summary of facts said. Gambling wins were generally split among co-conspirators Tony Taylor, Quanis Phillips and sometimes Purnell Peace, it continued. \\\"Vick did not gamble by placing side bets on any of the fights. Vick did not receive any of the proceeds from the purses that were won by 'Bad Newz Kennels.' \\\" Vick also agreed that \\\"collective efforts\\\" by him and two others caused the deaths of at least six dogs. Around April, Vick, Peace and Phillips tested some dogs in fighting sessions at Vick's property in Virginia, the statement said. \\\"Peace, Phillips and Vick agreed to the killing of approximately 6-8 dogs that did not perform well in 'testing' sessions at 1915 Moonlight Road and all of those dogs were killed by various methods, including hanging and drowning. \\\"Vick agrees and stipulates that these dogs all died as a result of the collective efforts of Peace, Phillips and Vick,\\\" the summary said. Peace, 35, of Virginia Beach, Virginia; Phillips, 28, of Atlanta, Georgia; and Taylor, 34, of Hampton, Virginia, already have accepted agreements to plead guilty in exchange for reduced sentences. Vick, 27, is scheduled to appear Monday in court, where he is expected to plead guilty before a judge.  See a timeline of the case against Vick \\u00bb . The judge in the case will have the final say over the plea agreement. The federal case against Vick focused on the interstate conspiracy, but Vick's admission that he was involved in the killing of dogs could lead to local charges, according to CNN legal analyst Jeffrey Toobin. \\\"It sometimes happens -- not often -- that the state will follow a federal prosecution by charging its own crimes for exactly the same behavior,\\\" Toobin said Friday. \\\"The risk for Vick is, if he makes admissions in his federal guilty plea, the state of Virginia could say, 'Hey, look, you admitted violating Virginia state law as well. We're going to introduce that against you and charge you in our court.' \\\" In the plea deal, Vick agreed to cooperate with investigators and provide all information he may have on any criminal activity and to testify if necessary. Vick also agreed to turn over any documents he has and to submit to polygraph tests. Vick agreed to \\\"make restitution for the full amount of the costs associated\\\" with the dogs that are being held by the government. \\\"Such costs may include, but are not limited to, all costs associated with the care of the dogs involved in that case, including if necessary, the long-term care and/or the humane euthanasia of some or all of those animals.\\\" Prosecutors, with the support of animal rights activists, have asked for permission to euthanize the dogs. But the dogs could serve as important evidence in the cases against Vick and his admitted co-conspirators. Judge Henry E. Hudson issued an order Thursday telling the U.S. Marshals Service to \\\"arrest and seize the defendant property, and use discretion and whatever means appropriate to protect and maintain said defendant property.\\\" Both the judge's order and Vick's filing refer to \\\"approximately\\\" 53 pit bull dogs. After Vick's indictment last month, Goodell ordered the quarterback not to report to the Falcons training camp, and the league is reviewing the case. Blank told the NFL Network on Monday he could not speculate on Vick's future as a Falcon, at least not until he had seen \\\"a statement of facts\\\" in the case.  E-mail to a friend . CNN's Mike Phelan contributed to this report.\"\n",
    "        }\n",
    "      ]\n",
    "    }\n",
    "]\n",
    "\n",
    "# Configure the inference parameters.\n",
    "inf_params = {\"maxTokens\": 500, \"topP\": 0.9, \"topK\": 20, \"temperature\": 0.7}\n",
    "request_body = {\n",
    "    \"schemaVersion\": \"messages-v1\",\n",
    "    \"messages\": message_list,\n",
    "    \"system\": system_list,\n",
    "    \"inferenceConfig\": inf_params\n",
    "\n",
    "}\n",
    "\n",
    "body = json.dumps(request_body)\n",
    "try:\n",
    "    response = brt.invoke_model(\n",
    "        modelId=deployed_model_id,\n",
    "        body=body\n",
    "\n",
    "    )\n",
    "    print(\"Request ID:\", response['ResponseMetadata']['RequestId'])\n",
    "\n",
    "    # Decode the response body.\n",
    "    model_response = json.loads(response[\"body\"].read())\n",
    "    # Extract and print the response text.\n",
    "    response_text = model_response[\"output\"][\"message\"][\"content\"][0][\"text\"]\n",
    "    print(response_text)\n",
    "\n",
    "except Exception as e:\n",
    "    # Print the full error response for debugging\n",
    "    print(\"Error:\", e)\n",
    "    # Extract and print the Request ID from the error response\n",
    "    if 'ResponseMetadata' in e.response:\n",
    "        print(\"Request ID:\", e.response['ResponseMetadata']['RequestId'])\n"
   ]
  },
  {
   "cell_type": "markdown",
   "metadata": {},
   "source": [
    "### Invoke Stream API\n",
    "Similar to the Converse Stream API, this provides streaming responses but with the Invoke API's flexibility for custom configurations."
   ]
  },
  {
   "cell_type": "code",
   "execution_count": null,
   "metadata": {},
   "outputs": [],
   "source": [
    "import boto3\n",
    "import json\n",
    "from datetime import datetime\n",
    "\n",
    "brt = boto3.client(service_name='bedrock-runtime', region_name = 'us-east-1')\n",
    "\n",
    "system_list = [\n",
    "                    {\n",
    "                      \"text\": \"You are a helpful assistant that summarizes news articles accurately and concisely.\"\n",
    "                    }\n",
    "              ]\n",
    "message_list=[\n",
    "            {\n",
    "      \"role\": \"user\",\n",
    "      \"content\": [\n",
    "        {\n",
    "          \"text\": \"Summarize the following news article:\\n\\n(CNN)  -- The National Football League has indefinitely suspended Atlanta Falcons quarterback Michael Vick without pay, officials with the league said Friday. NFL star Michael Vick is set to appear in court Monday. A judge will have the final say on a plea deal. Earlier, Vick admitted to participating in a dogfighting ring as part of a plea agreement with federal prosecutors in Virginia. \\\"Your admitted conduct was not only illegal, but also cruel and reprehensible. Your team, the NFL, and NFL fans have all been hurt by your actions,\\\" NFL Commissioner Roger Goodell said in a letter to Vick. Goodell said he would review the status of the suspension after the legal proceedings are over. In papers filed Friday with a federal court in Virginia, Vick also admitted that he and two co-conspirators killed dogs that did not fight well. Falcons owner Arthur Blank said Vick's admissions describe actions that are \\\"incomprehensible and unacceptable.\\\" The suspension makes \\\"a strong statement that conduct which tarnishes the good reputation of the NFL will not be tolerated,\\\" he said in a statement.  Watch what led to Vick's suspension \\u00bb . Goodell said the Falcons could \\\"assert any claims or remedies\\\" to recover $22 million of Vick's signing bonus from the 10-year, $130 million contract he signed in 2004, according to The Associated Press. Vick said he would plead guilty to one count of \\\"Conspiracy to Travel in Interstate Commerce in Aid of Unlawful Activities and to Sponsor a Dog in an Animal Fighting Venture\\\" in a plea agreement filed at U.S. District Court in Richmond, Virginia. The charge is punishable by up to five years in prison, a $250,000 fine, \\\"full restitution, a special assessment and 3 years of supervised release,\\\" the plea deal said. Federal prosecutors agreed to ask for the low end of the sentencing guidelines. \\\"The defendant will plead guilty because the defendant is in fact guilty of the charged offense,\\\" the plea agreement said. In an additional summary of facts, signed by Vick and filed with the agreement, Vick admitted buying pit bulls and the property used for training and fighting the dogs, but the statement said he did not bet on the fights or receive any of the money won. \\\"Most of the 'Bad Newz Kennels' operations and gambling monies were provided by Vick,\\\" the official summary of facts said. Gambling wins were generally split among co-conspirators Tony Taylor, Quanis Phillips and sometimes Purnell Peace, it continued. \\\"Vick did not gamble by placing side bets on any of the fights. Vick did not receive any of the proceeds from the purses that were won by 'Bad Newz Kennels.' \\\" Vick also agreed that \\\"collective efforts\\\" by him and two others caused the deaths of at least six dogs. Around April, Vick, Peace and Phillips tested some dogs in fighting sessions at Vick's property in Virginia, the statement said. \\\"Peace, Phillips and Vick agreed to the killing of approximately 6-8 dogs that did not perform well in 'testing' sessions at 1915 Moonlight Road and all of those dogs were killed by various methods, including hanging and drowning. \\\"Vick agrees and stipulates that these dogs all died as a result of the collective efforts of Peace, Phillips and Vick,\\\" the summary said. Peace, 35, of Virginia Beach, Virginia; Phillips, 28, of Atlanta, Georgia; and Taylor, 34, of Hampton, Virginia, already have accepted agreements to plead guilty in exchange for reduced sentences. Vick, 27, is scheduled to appear Monday in court, where he is expected to plead guilty before a judge.  See a timeline of the case against Vick \\u00bb . The judge in the case will have the final say over the plea agreement. The federal case against Vick focused on the interstate conspiracy, but Vick's admission that he was involved in the killing of dogs could lead to local charges, according to CNN legal analyst Jeffrey Toobin. \\\"It sometimes happens -- not often -- that the state will follow a federal prosecution by charging its own crimes for exactly the same behavior,\\\" Toobin said Friday. \\\"The risk for Vick is, if he makes admissions in his federal guilty plea, the state of Virginia could say, 'Hey, look, you admitted violating Virginia state law as well. We're going to introduce that against you and charge you in our court.' \\\" In the plea deal, Vick agreed to cooperate with investigators and provide all information he may have on any criminal activity and to testify if necessary. Vick also agreed to turn over any documents he has and to submit to polygraph tests. Vick agreed to \\\"make restitution for the full amount of the costs associated\\\" with the dogs that are being held by the government. \\\"Such costs may include, but are not limited to, all costs associated with the care of the dogs involved in that case, including if necessary, the long-term care and/or the humane euthanasia of some or all of those animals.\\\" Prosecutors, with the support of animal rights activists, have asked for permission to euthanize the dogs. But the dogs could serve as important evidence in the cases against Vick and his admitted co-conspirators. Judge Henry E. Hudson issued an order Thursday telling the U.S. Marshals Service to \\\"arrest and seize the defendant property, and use discretion and whatever means appropriate to protect and maintain said defendant property.\\\" Both the judge's order and Vick's filing refer to \\\"approximately\\\" 53 pit bull dogs. After Vick's indictment last month, Goodell ordered the quarterback not to report to the Falcons training camp, and the league is reviewing the case. Blank told the NFL Network on Monday he could not speculate on Vick's future as a Falcon, at least not until he had seen \\\"a statement of facts\\\" in the case.  E-mail to a friend . CNN's Mike Phelan contributed to this report.\"\n",
    "        }\n",
    "      ]\n",
    "    }\n",
    "]\n",
    "\n",
    "# Configure the inference parameters.\n",
    "inf_params = {\"maxTokens\": 500, \"topP\": 0.9, \"topK\": 20, \"temperature\": 0.7}\n",
    "\n",
    "request_body = {\n",
    "    \"schemaVersion\": \"messages-v1\",\n",
    "    \"messages\": message_list,\n",
    "    \"system\": system_list,\n",
    "    \"inferenceConfig\": inf_params,\n",
    "}\n",
    "\n",
    "try:\n",
    "    start_time = datetime.now()\n",
    "    chunk_count = 0\n",
    "    time_to_first_token = None\n",
    "    response = brt.invoke_model_with_response_stream(\n",
    "        modelId=deployed_model_id,\n",
    "        body=json.dumps(request_body)\n",
    "    )\n",
    "\n",
    "    stream = response.get(\"body\")\n",
    "    if stream:\n",
    "        for event in stream:\n",
    "            chunk = event.get(\"chunk\")\n",
    "            if chunk:\n",
    "                # Print the response chunk\n",
    "                chunk_json = json.loads(chunk.get(\"bytes\").decode())\n",
    "                # Pretty print JSON\n",
    "                # print(json.dumps(chunk_json, indent=2, ensure_ascii=False))\n",
    "\n",
    "                content_block_delta = chunk_json.get(\"contentBlockDelta\")\n",
    "                if content_block_delta:\n",
    "                    if time_to_first_token is None:\n",
    "                        time_to_first_token = datetime.now() - start_time\n",
    "                        print(f\"Time to first token: {time_to_first_token}\")\n",
    "    \n",
    "                    chunk_count += 1\n",
    "                    current_time = datetime.now().strftime(\"%Y-%m-%d %H:%M:%S:%f\")\n",
    "                    # print(f\"{current_time} - \", end=\"\")\n",
    "                    print(content_block_delta.get(\"delta\").get(\"text\"), end=\"\")\n",
    "\n",
    "        print(f\"Total chunks: {chunk_count}\")\n",
    "\n",
    "    else:\n",
    "        print(\"No response stream received.\")\n",
    "\n",
    "except Exception as e:\n",
    "    # Print the full error response for debugging\n",
    "    print(\"Error:\", e)\n",
    "    # Extract and print the Request ID from the error response\n",
    "    if 'ResponseMetadata' in e.response:\n",
    "        print(\"Request ID:\", e.response['ResponseMetadata']['RequestId'])"
   ]
  },
  {
   "cell_type": "markdown",
   "metadata": {},
   "source": [
    "## Summary\n",
    "\n",
    "- Installed additional packages (fmeval, tokenizers, awscurl) and retrieves stored variables from setup notebook\n",
    "- Create and monitor Nova Micro fine-tuning job with custom hyperparameters (2 epochs, batch size 1, learning rate 0.00005) that takes ~60 minutes to complete\n",
    "- Download training and validation metrics from S3 and visualizes loss curves to evaluate model performance and check for overfitting/underfitting\n",
    "- Deploy the fine-tuned Nova Micro model as an on-demand inference endpoint using awscurl command for real-time inference capabilities\n",
    "- Test the on-demand inference deployment using four different API methods: Converse API (synchronous responses), Converse Stream API (streaming tokens), Invoke API (custom parameters), and Invoke Stream API (streaming with custom configurations)"
   ]
  }
 ],
 "metadata": {
  "kernelspec": {
   "display_name": "Python 3",
   "language": "python",
   "name": "python3"
  },
  "language_info": {
   "codemirror_mode": {
    "name": "ipython",
    "version": 3
   },
   "file_extension": ".py",
   "mimetype": "text/x-python",
   "name": "python",
   "nbconvert_exporter": "python",
   "pygments_lexer": "ipython3",
   "version": "3.8.5"
  }
 },
 "nbformat": 4,
 "nbformat_minor": 4
}
